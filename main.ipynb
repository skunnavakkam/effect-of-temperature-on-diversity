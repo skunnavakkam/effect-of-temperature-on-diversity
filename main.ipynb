{
 "cells": [
  {
   "cell_type": "code",
   "execution_count": 3,
   "metadata": {},
   "outputs": [],
   "source": [
    "from together import Together\n",
    "from typing import List\n",
    "from llama_index.embeddings.huggingface import HuggingFaceEmbedding\n",
    "import numpy as np\n",
    "\n",
    "client = Together(\n",
    "    api_key=\"f78be56b2a561b90cfff2ec8912e8a7c84cf763415e3c10c242554cbe3ed72eb\"\n",
    ")\n",
    "\n",
    "embed_model = HuggingFaceEmbedding(model_name=\"BAAI/bge-small-en-v1.5\")"
   ]
  },
  {
   "cell_type": "code",
   "execution_count": 4,
   "metadata": {},
   "outputs": [],
   "source": [
    "PROMPT = 'The following sample, which reflects an average placement into College Writing I, was written in response to this prompt: \"Are success and happiness interchangeable ideas to you? Answer this question in a brief essay with examples and illustrations to support your position.\" To help you think about your own writing, we have made a few notes to explain what makes this a passing essay'\n",
    "\n",
    "SAMPLE_RESPONSE = \"While the ideas of \\\"happiness\\\" and \\\"success\\\" seem related at first glance, I believe they are two separate categories and represent two different ways of looking at the world. First of all, happiness is a feeling, which success is not. A person doesn't need to be successful to be happy, because a wide variety of things can make a person feel happy, and those things might not be the same from person to person. Success isn't an emotion; it's a judgment of its own kind. To say a person is successful or unsuccessful is a way of evaluating that person, and deciding whether they measure up to a standard. It's important to see the difference between those two things, or you could end up missing out on happiness. Happiness can come from a sense of personal accomplishment or achievement, which is why happiness and success are easily confused. It feels really good to reach a goal, especially if you've set a goal that is meaningful to you. For example, in my high school, there is a history teacher that everyone thinks is a tough grader. Mr. Anderson teaches a European history class that is not required, and usually only the smartest students take that class because of its reputation for being difficult. I'm not at the very top of my class, but I liked the other history classes that I'd taken, so I was considering signing up for it. I had a hard time deciding. I didn't want to get a bad grade, but a friend of mine who took that class last year gave me good advice. She told me that I shouldn't worry about it, because the class would be good, so I signed up for it. At the start of the year, Mr. Anderson told us how much he expected from us, and I thought about switching to another class because it seemed impossible. I got a couple of bad quiz grades, but I stayed for extra help and my grades started to get better. Right now, I have a B in that class, and I'm very happy with that. This kind of happiness is based on how I feel about myself. I tried to do something that was difficult, and even though some people might not think of a B as a success, I'm happy with it. I know how hard I worked to get it, and that makes me feel like a success. Success is too often confused with gratification. It's easy to see how this happens. We live in a world that tells us that it's important to be rich and that it's important to have a lot of things that demonstrate your wealth, like designer cloths or an expensive sports car. Everywhere you look, on TV, in magazines and in newspapers, there are pictures of rich and famous people. Being rich and being famous are goals that people set because of greed for material possessions. We all know examples of people who \\\"make it big\\\" but are very unhappy. The comedian Dave Chappelle got his own TV show and became famous and rich. Everyone considered him to be a successful person, but underneath he was very unhappy. In fact, he was so unhappy that he had to stop making his show because he had a nervous breakdown from the pressure of being a success. Dave Chappelle is a classic example of how being successful is different from being happy. He had attained success by society's standards, but that couldn't make him happy. People who think that having all of the things that you want is the same as being happy are confused. They're overly interested in what other people think of them, and want to impress everyone, but it's difficult to control other people's opinions, and so it's not a good idea to try to base your happiness on what other people think of as success. If society was less materialistic, we might see that there are other ways to think of success. If a person was kind and gentle, we could think of that as success, but we don't. If a person went to school or work every day and tried his best, even if his grades weren't great or he didn't make a lot of money, we could consider that person a success, and we probably should. Maybe if we started to think of success differently, there would be more times when success and happiness would be the same thing. We focus too much on power and money and on having things, and I think that is keeping a lot of people from being happy. Once you stop to consider the difference between happiness and success, it becomes clear that while they might sometimes happen together, those two ideas are not necessarily connected. You might have a humble job that doesn't have much prestige, but you might enjoy it. Or, you might not like your job that much, but you might have a great life at home that makes you happy. On the other hand, you might have an impressive career that gives you a lot of money and respect, but you might hate your work, or you might be unhappy with your life outside of work. If you look at the way things are in society, it is obvious that happiness and success get confused all the time. Happiness is a feeling that exists inside a person; success is too often a measurement that is based on what other people think of us. You have to know the difference if you want to be happy, and being happy with yourself is a kind of success that everyone should be able to experience.\""
   ]
  },
  {
   "cell_type": "code",
   "execution_count": 9,
   "metadata": {},
   "outputs": [],
   "source": [
    "def get_embeddings_values(response: str) -> List[float]:\n",
    "    words = response.split()\n",
    "    temp_words = []\n",
    "    ret = []\n",
    "\n",
    "    for word in words:\n",
    "        temp_words.append(words)\n",
    "        ret.append(embed_model.get_text_embedding(\" \".join(words)))\n",
    "\n",
    "    return ret\n",
    "\n",
    "\n",
    "def distance_between_embeddings(embeddings: List[float]) -> List[float]:\n",
    "    \"\"\"\n",
    "    Takes in a list of n embeddings, returns a list of length n-1 with the distance between consecutive pairs of embeddings. The mth value in the return list is the distance between the mth and m+1th value of the input list\n",
    "    \"\"\"\n",
    "    ret = []\n",
    "    for i in range(len(embeddings) - 1):\n",
    "        ret.append(np.dot(embeddings[i], embeddings[i + 1]))\n",
    "    return ret\n",
    "\n",
    "\n",
    "def distance_to_first_embedding(embeddings: List[float]) -> List[float]:\n",
    "    \"\"\"\n",
    "    Takes in a list of n embeddings, returns a list of n-1 distances. The mth value of the return list is the dot product of the 1st value and the m+1th value\n",
    "    \"\"\"\n",
    "    ret = []\n",
    "    for i in range(len(embeddings) - 1):\n",
    "        ret.append(np.dot(embeddings[0], embeddings[i + 1]))\n",
    "    return ret"
   ]
  },
  {
   "cell_type": "code",
   "execution_count": null,
   "metadata": {},
   "outputs": [],
   "source": [
    "# I'm going to test 20 values for temperature between 0 and 2\n",
    "embeddings_lists = []\n",
    "for temperature in np.linspace(0, 2, 20):\n",
    "    response = client.chat.completions.create(\n",
    "        model=\"meta-llama/Llama-3-70b-chat-hf\",\n",
    "        max_tokens=1024,\n",
    "        messages=[{\"role\": \"user\", \"content\": PROMPT}],\n",
    "    )"
   ]
  }
 ],
 "metadata": {
  "kernelspec": {
   "display_name": "Python 3",
   "language": "python",
   "name": "python3"
  },
  "language_info": {
   "codemirror_mode": {
    "name": "ipython",
    "version": 3
   },
   "file_extension": ".py",
   "mimetype": "text/x-python",
   "name": "python",
   "nbconvert_exporter": "python",
   "pygments_lexer": "ipython3",
   "version": "3.11.8"
  },
  "orig_nbformat": 4
 },
 "nbformat": 4,
 "nbformat_minor": 2
}
